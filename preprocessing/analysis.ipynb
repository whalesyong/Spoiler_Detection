{
 "cells": [
  {
   "cell_type": "markdown",
   "id": "d5ea9464-b67b-4f69-97e4-fcb717921ee1",
   "metadata": {},
   "source": [
    "## Tokenizer Analysis on the BooksCorpus dataset \n",
    "\n",
    "After training a tokenizer, we want to see if there are still many [UNK] tokens that show up when tokenizing the data (which will tell us we need to increase vocab size), and also see what the dsitribution of token length is like. This will tell us if 512 is too short for max seq length. \n"
   ]
  },
  {
   "cell_type": "code",
   "execution_count": 1,
   "id": "3895117d-ebc9-4c04-8f5d-5f6a2e93f57a",
   "metadata": {},
   "outputs": [
    {
     "name": "stderr",
     "output_type": "stream",
     "text": [
      "/home/w/weiyong/miniconda3/lib/python3.12/site-packages/tqdm/auto.py:21: TqdmWarning: IProgress not found. Please update jupyter and ipywidgets. See https://ipywidgets.readthedocs.io/en/stable/user_install.html\n",
      "  from .autonotebook import tqdm as notebook_tqdm\n"
     ]
    }
   ],
   "source": [
    "import os\n",
    "import re\n",
    "from tqdm import tqdm\n",
    "import numpy as np\n",
    "import polars as pl\n",
    "from transformers import PreTrainedTokenizerFast\n",
    "from datasets import Dataset \n"
   ]
  },
  {
   "cell_type": "code",
   "execution_count": 2,
   "id": "61c23b43-3495-45b9-807d-1f75bae0c9ff",
   "metadata": {},
   "outputs": [],
   "source": [
    "\n",
    "# -------------------\n",
    "# Utility functions\n",
    "# -------------------\n",
    "def clean_text(text):\n",
    "    # Remove unnecessary symbols (keep punctuation)\n",
    "    text = re.sub(r\"[^a-zA-Z0-9.,!?;:'\\\"()\\- ]+\", \" \", text)\n",
    "    # Normalize white space\n",
    "    text = re.sub(r\"\\s+\", \" \", text).strip()\n",
    "    return text.lower()\n",
    "\n",
    "def filter_text(text: str, min_length: int = 10, max_length: int = 10000) -> bool:\n",
    "    \"\"\"Filter text based on length criteria.\"\"\"\n",
    "    if not isinstance(text, str):\n",
    "        return False\n",
    "    text_length = len(text.strip())\n",
    "    return min_length <= text_length <= max_length\n",
    "\n",
    "# -------------------\n",
    "# Load dataset & tokenizer\n",
    "# -------------------\n",
    "data_path = os.path.expanduser(\"~/datasets/BookCorpus/BookCorpus3.csv\")\n",
    "df = pl.read_csv(data_path)   # Assume there is a \"text\" column\n",
    "tokenizer_path = \"../bpe_tokenizer_with_special\"\n",
    "hf_tokenizer = PreTrainedTokenizerFast.from_pretrained(tokenizer_path)\n",
    "\n"
   ]
  },
  {
   "cell_type": "code",
   "execution_count": 3,
   "id": "7f518f90-a19a-4c94-8930-bbe8858bfb0e",
   "metadata": {},
   "outputs": [
    {
     "name": "stdout",
     "output_type": "stream",
     "text": [
      "Special tokens: ['[UNK]', '[SEP]', '[PAD]', '[CLS]', '[MASK]']\n",
      "Special token IDs: [1, 3, 0, 2, 4]\n"
     ]
    }
   ],
   "source": [
    "print(\"Special tokens:\", hf_tokenizer.all_special_tokens)\n",
    "print(\"Special token IDs:\", hf_tokenizer.all_special_ids)\n"
   ]
  },
  {
   "cell_type": "code",
   "execution_count": 4,
   "id": "5a332a5d-69a0-4ad5-be31-24576654deb8",
   "metadata": {},
   "outputs": [
    {
     "name": "stderr",
     "output_type": "stream",
     "text": [
      "Processing chunks: 100%|██████████| 111/111 [06:22<00:00,  3.45s/it]\n"
     ]
    }
   ],
   "source": [
    "from datasets import Dataset\n",
    "from transformers import PreTrainedTokenizerFast\n",
    "import numpy as np\n",
    "from tqdm import tqdm\n",
    "from datasets.utils.logging import set_verbosity_info\n",
    "set_verbosity_info()\n",
    "\n",
    "\n",
    "\n",
    "chunks = []\n",
    "batch_size = 100_000\n",
    "\n",
    "for i in tqdm(range(0, df.height, batch_size), desc=\"Processing chunks\"):\n",
    "    chunk = df[i: i + batch_size]\n",
    "    chunk = (\n",
    "        chunk.with_columns([\n",
    "            pl.col('0').map_elements(clean_text, return_dtype=pl.Utf8).alias(\"cleaned_text\")\n",
    "        ])\n",
    "        .filter(\n",
    "            (pl.col(\"cleaned_text\").str.len_chars() >= 10) &\n",
    "            (pl.col(\"cleaned_text\").str.len_chars() <= 10000) &\n",
    "            (pl.col(\"cleaned_text\") != \"\")\n",
    "        )\n",
    "    )\n",
    "    chunks.append(chunk)\n",
    "\n",
    "df_processed = pl.concat(chunks)\n"
   ]
  },
  {
   "cell_type": "code",
   "execution_count": 5,
   "id": "3155e0a1-5770-49a8-b704-029aad39286a",
   "metadata": {},
   "outputs": [
    {
     "name": "stderr",
     "output_type": "stream",
     "text": [
      "Using custom data configuration default-cf4df5e094bc9fcc\n",
      "Generating dataset generator (/home/w/weiyong/.cache/huggingface/datasets/generator/default-cf4df5e094bc9fcc/0.0.0)\n",
      "Downloading and preparing dataset generator/default to /home/w/weiyong/.cache/huggingface/datasets/generator/default-cf4df5e094bc9fcc/0.0.0...\n",
      "Generating train split\n",
      "Generating train split: 11040073 examples [00:57, 190485.02 examples/s]\n",
      "Unable to verify splits sizes.\n",
      "Dataset generator downloaded and prepared to /home/w/weiyong/.cache/huggingface/datasets/generator/default-cf4df5e094bc9fcc/0.0.0. Subsequent calls will reuse this data.\n",
      "Saving the dataset (10/10 shards): 100%|██████████| 11040073/11040073 [00:14<00:00, 751639.31 examples/s] \n"
     ]
    }
   ],
   "source": [
    "def data_generator():\n",
    "    for row in df_processed.iter_rows(named=True):\n",
    "        yield {\"cleaned_text\": row[\"cleaned_text\"]}\n",
    "\n",
    "hf_dataset = Dataset.from_generator(data_generator)\n",
    "hf_dataset.save_to_disk(\"BookCorpus_cleaned_hf\")"
   ]
  },
  {
   "cell_type": "code",
   "execution_count": 8,
   "id": "2ab420e1-7c33-4e1a-93d1-5e78ee974a0c",
   "metadata": {},
   "outputs": [],
   "source": [
    "from datasets import load_from_disk\n",
    "\n",
    "\n",
    "unk_token_id = hf_tokenizer.unk_token_id\n",
    "# Function for stats\n",
    "def analyze_batch(batch):\n",
    "    encodings = hf_tokenizer(batch[\"cleaned_text\"], padding=False, truncation=False)\n",
    "    lengths = [len(ids) for ids in encodings[\"input_ids\"]]\n",
    "    unk_counts = [sum(1 for i in ids if i == unk_token_id) for ids in encodings[\"input_ids\"]]\n",
    "    return {\"lengths\": lengths, \"unk_counts\": unk_counts}\n",
    "\n",
    "\n",
    "\n",
    "pt_data = load_from_disk(\"BookCorpus_cleaned_hf\")"
   ]
  },
  {
   "cell_type": "code",
   "execution_count": 10,
   "id": "6f692ce3-61b3-4427-a9b8-f6e535429406",
   "metadata": {},
   "outputs": [
    {
     "name": "stderr",
     "output_type": "stream",
     "text": [
      "Caching processed dataset at /home/w/weiyong/CS3244/preprocessing/BookCorpus_cleaned_hf/cache-82058cc717add2f7.arrow\n",
      "Map: 100%|██████████| 11040073/11040073 [15:32<00:00, 11839.57 examples/s]\n"
     ]
    }
   ],
   "source": [
    "stats_data = pt_data.map(analyze_batch, batched=True, batch_size=512)\n"
   ]
  },
  {
   "cell_type": "code",
   "execution_count": 27,
   "id": "d379d493-1956-43d4-8fb7-dee4e4545378",
   "metadata": {},
   "outputs": [
    {
     "name": "stdout",
     "output_type": "stream",
     "text": [
      "{'cleaned_text': [\"she began getting up first thing in the morning. she wanted to avoid konnor and his irrational fear at having her leave him alone in the house. she'd fix a quick bite to eat for both of them, leave konnor's on the table, and then she went to dress for the day.\", \"caitrin hid the fact that she was a woman behind bulky clothes. her jeans were loose. she tucked the cuffs into the expensive hiking boots she had obtained during a smash and grab at an outdoor store's window display.\", 'she considered strapping down her breasts, and decided against it. a sports bra would have to do. overtop of that went a t shirt and a regular shirt. she added an oversize hoodie. beneath that, a ball cap covered the long hair she kept in a bun whenever she went outside.', 'as hard as it had been for caitrin to convince konnor to let her go, he never seemed to notice her disappearance on those twice weekly excursions. perhaps it was because she went quietly out the door. she stopped saying good bye for fear that it would set him off on one of the ever increasing rants that he was beginning to subject her to.', \"as her treks took her farther afield, she would often be gone all day, almost into darkness. she wouldn't allow herself to be out in the night. at the end of the day, often as late as twilight, she'd arrive home, exhausted, feet sore and back aching from the weight of the huge pack she toted.\", \"she knew she was using those two days as an escape from her developing problems with konnor. she spent the time thinking, and she didn't like the one question she kept asking herself. what was she going to do without konnor to help her exist within the confines of the deserted city\", \"despite her worries, she continued to enjoy being out of konnor's way. she got to examine parts of the city that she barely knew existed. she was most cheerful when she passed through the city's parks with their huge shade trees and picnic tables. some of them even had barbecues. it reminded her of what was missing, but she soon chased those thoughts out of her head.\", \"she'd tried using a bicycle, but ditched that idea when the heavy pack she carried got the better of her. she had tipped over, and in her clumsiness, knocked herself out when she crashed onto the ground, driven there by the off center weight of the pack.\", 'when she came to, she looked around, embarrassed that anyone might have seen her. then she remembered she was all alone. she laughed at her clumsiness, but she walked home rubbing both her head and her ass. for good measure, she added her bruised ego into the mix.', \"konnor's condition worsened, and caitrin began to dread coming home at all. she never knew what mood he'd be in. she knew she was becoming the sole provider when she realized that konnor had stopped going anywhere. more and more, his paranoia was inserting itself into their relationship by turning it into a nightmare for both of them.\", \"it was one of the shortcuts that caitrin took on the two days she went out into the world. at first, it was only an eerie feeling that overtook her when she passed through one of her regular neighborhoods on her scavenger hunts. it wasn't the entire neighborhood, but only one small area.\", \"she couldn't explain the feeling. as the days and weeks passed and she became more self assured, she decided that someone had to be watching her. she had nothing to go by. she'd never crossed paths with another soul. so why was she so insistent that someone else was there, spying on her\", \"she'd already determined to begin paying more attention to her surroundings. she realized she could no longer strut carelessly through the streets and neighborhoods as she had in the past. if there was someone out there, she needed to know about it.\", \"her senses went on full alert and she halted at the edge of the cul de sac. nothing looked out of the ordinary. in fact, it looked like every other street she traversed. almost. something wasn't quite right about this one, though.\", 'she thought she might start avoiding the area, and then thought better of it. if she was going to become paranoid now, in a city that she was certain was pretty much deserted, she might as well throw in the towel, stay home, and join konnor in his crazy fantasies.', 'nothing looked to be out of the ordinary. however, at second glance, in what seemed to be a random pattern, the curtains in some of the houses were closed. in others, they were open. if memory served her right, in almost every other neighborhood she traveled through, the curtains on almost all of the houses had been left open. people wanted to be witness to the proceedings going on in their neighborhoods.', 'caitrin shook her head, unable to believe what she had allowed to creep into her mind. she resolved to shut it out. at the same time, she lost her concentration. she took a step and her foot slipped off the curb. unbalanced by the heavy load in the huge backpack, she tripped, stumbled and the off balanced weight sent her careening onto a lawn.', \"shock moved through her body and she stiffened. she stayed on the ground, stunned, unable to move a muscle. it wasn't from the weight of the heavy pack on top of her. she lay where she fell and tried not to move.\", \"she wanted to turn her head towards the window, but she couldn't. the huge weight of the pack prevented her from getting up. she managed to untangle her arms from the straps. as she did, she pushed the pack away and got up.\", 'caitrin made a show of preparing herself for an attempt to pick up the heavy pack. she adjusted the shotgun across her chest. she took her time positioning over the pack. finally, she kneeled and shoved her arms through the straps. she tottered forward and used her legs to lift the full weight off the ground.'], 'lengths': [63, 45, 60, 72, 72, 59, 80, 56, 57, 71, 63, 63, 48, 51, 58, 83, 74, 50, 52, 64], 'unk_counts': [0, 0, 0, 0, 0, 0, 0, 0, 0, 0, 0, 0, 0, 0, 0, 0, 0, 0, 0, 0]}\n"
     ]
    }
   ],
   "source": [
    "print(stats_data[:20])\n"
   ]
  },
  {
   "cell_type": "code",
   "execution_count": 18,
   "id": "d3499b6a-fb5c-4b98-9f6c-def685626fd9",
   "metadata": {},
   "outputs": [
    {
     "name": "stderr",
     "output_type": "stream",
     "text": [
      "1105it [00:26, 42.14it/s]                          \n"
     ]
    },
    {
     "name": "stdout",
     "output_type": "stream",
     "text": [
      "Five Summary Statistics (Token Lengths):\n",
      "Min: 2\n",
      "Q1: 57\n",
      "Median: 75\n",
      "Q3: 105\n",
      "Max: 5345\n"
     ]
    },
    {
     "data": {
      "image/png": "[encoded data removed]",
      "text/plain": [
       "<Figure size 1000x600 with 1 Axes>"
      ]
     },
     "metadata": {},
     "output_type": "display_data"
    }
   ],
   "source": [
    "from collections import Counter\n",
    "import matplotlib.pyplot as plt\n",
    "length_hist = Counter()\n",
    "\n",
    "for batch in tqdm(stats_data.iter(batch_size=10000), total=len(stats_data)//10000):\n",
    "    for l in batch[\"lengths\"]:\n",
    "        length_hist[int(l)] += 1\n",
    "\n",
    "# Convert histogram to arrays\n",
    "lengths, counts = zip(*sorted(length_hist.items()))\n",
    "lengths = np.array(lengths)\n",
    "counts = np.array(counts)\n",
    "\n",
    "# Compute cumulative distribution\n",
    "cum_counts = np.cumsum(counts)\n",
    "total = cum_counts[-1]\n",
    "\n",
    "def percentile(p):\n",
    "    idx = np.searchsorted(cum_counts, total * p / 100)\n",
    "    return lengths[idx]\n",
    "\n",
    "min_len = lengths[0]\n",
    "q1 = percentile(25)\n",
    "median = percentile(50)\n",
    "q3 = percentile(75)\n",
    "max_len = lengths[-1]\n",
    "\n",
    "print(\"Five Summary Statistics (Token Lengths):\")\n",
    "print(f\"Min: {min_len}\")\n",
    "print(f\"Q1: {q1}\")\n",
    "print(f\"Median: {median}\")\n",
    "print(f\"Q3: {q3}\")\n",
    "print(f\"Max: {max_len}\")\n",
    "\n",
    "# Plot histogram (log scale)\n",
    "plt.figure(figsize=(10, 6))\n",
    "plt.bar(lengths, counts, color=\"skyblue\")\n",
    "plt.yscale(\"log\")\n",
    "plt.title(\"Token Length Distribution\")\n",
    "plt.xlabel(\"Token Length\")\n",
    "plt.ylabel(\"Frequency (log scale)\")\n",
    "plt.axvline(median, color=\"red\", linestyle=\"--\", label=f\"Median = {median}\")\n",
    "plt.legend()\n",
    "plt.show()\n"
   ]
  },
  {
   "cell_type": "code",
   "execution_count": 28,
   "id": "792a46f6-b169-4e7d-810a-91f2a4f5a68c",
   "metadata": {},
   "outputs": [
    {
     "name": "stderr",
     "output_type": "stream",
     "text": [
      "1105it [00:23, 47.50it/s]                          "
     ]
    },
    {
     "name": "stdout",
     "output_type": "stream",
     "text": [
      "Total [UNK] tokens: 0\n",
      "Average [UNK] tokens per sample: 0.00\n"
     ]
    },
    {
     "name": "stderr",
     "output_type": "stream",
     "text": [
      "\n"
     ]
    }
   ],
   "source": [
    "import numpy as np\n",
    "from tqdm import tqdm\n",
    "\n",
    "total_unk = 0\n",
    "total_samples = 0\n",
    "\n",
    "for batch in tqdm(stats_data.iter(batch_size=10000), total=len(stats_data)//10000):\n",
    "    batch_unk = np.array(batch[\"unk_counts\"], dtype=np.int32)\n",
    "    total_unk += batch_unk.sum()\n",
    "    total_samples += len(batch_unk)\n",
    "\n",
    "print(f\"Total [UNK] tokens: {total_unk}\")\n",
    "print(f\"Average [UNK] tokens per sample: {total_unk / total_samples:.2f}\")\n"
   ]
  },
  {
   "cell_type": "code",
   "execution_count": 29,
   "id": "ecb0d487-56df-420a-9fc7-a7f99c199b3f",
   "metadata": {},
   "outputs": [
    {
     "name": "stdout",
     "output_type": "stream",
     "text": [
      "Dataset({\n",
      "    features: ['cleaned_text'],\n",
      "    num_rows: 11040073\n",
      "})\n"
     ]
    }
   ],
   "source": [
    "from datasets import load_from_disk\n",
    "\n",
    "dataset = load_from_disk(\"BookCorpus_cleaned_hf\")\n",
    "print(dataset)"
   ]
  },
  {
   "cell_type": "code",
   "execution_count": 32,
   "id": "8f22366b-7226-4c43-b344-b825e5c14c79",
   "metadata": {},
   "outputs": [
    {
     "data": {
      "text/plain": [
       "\"she began getting up first thing in the morning. she wanted to avoid konnor and his irrational fear at having her leave him alone in the house. she'd fix a quick bite to eat for both of them, leave konnor's on the table, and then she went to dress for the day.\""
      ]
     },
     "execution_count": 32,
     "metadata": {},
     "output_type": "execute_result"
    }
   ],
   "source": [
    "dataset['cleaned_text'][0]"
   ]
  },
  {
   "cell_type": "code",
   "execution_count": null,
   "id": "9654aff0-c136-42ec-9422-1914403f68c8",
   "metadata": {},
   "outputs": [],
   "source": []
  }
 ],
 "metadata": {
  "kernelspec": {
   "display_name": "Python 3 (ipykernel)",
   "language": "python",
   "name": "python3"
  },
  "language_info": {
   "codemirror_mode": {
    "name": "ipython",
    "version": 3
   },
   "file_extension": ".py",
   "mimetype": "text/x-python",
   "name": "python",
   "nbconvert_exporter": "python",
   "pygments_lexer": "ipython3",
   "version": "3.12.8"
  }
 },
 "nbformat": 4,
 "nbformat_minor": 5
}
